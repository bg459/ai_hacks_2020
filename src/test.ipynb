{
 "cells": [
  {
   "cell_type": "code",
   "execution_count": 9,
   "metadata": {
    "id": "SuUqYbLTnSHU"
   },
   "outputs": [],
   "source": [
    "import time\n",
    "from datetime import datetime\n",
    "from dateutil.tz import tzutc\n",
    "from ast import literal_eval\n",
    "\n",
    "import re\n",
    "import numpy as np\n",
    "import pandas as pd\n",
    "\n",
    "from sklearn.naive_bayes import MultinomialNB\n",
    "from sklearn.model_selection import train_test_split\n",
    "from sklearn.feature_extraction.text import CountVectorizer\n",
    "from sklearn.preprocessing import LabelEncoder\n",
    "\n",
    "import joblib\n",
    "import pickle\n",
    "from sklearn import preprocessing\n",
    "from scipy import spatial\n",
    "from tensorflow import keras\n",
    "from sklearn.decomposition import PCA\n",
    "import warnings\n",
    "warnings.filterwarnings(\"ignore\")"
   ]
  },
  {
   "cell_type": "code",
   "execution_count": 10,
   "metadata": {
    "colab": {
     "base_uri": "https://localhost:8080/",
     "height": 292
    },
    "id": "zdeo_tiyofe-",
    "outputId": "31d4fc9d-49ea-4f65-f395-e5dd264a5615"
   },
   "outputs": [
    {
     "output_type": "execute_result",
     "data": {
      "text/plain": [
       "            patient_id  video_id  length  video_created_time  video_views  \\\n",
       "Unnamed: 0                                                                  \n",
       "1                26207       620     137           197350632          793   \n",
       "2                26207       620     137           197350632          793   \n",
       "4                26207       771     305            72700160          452   \n",
       "6                26207       707     220           657973552          394   \n",
       "14               26208       609     555           183070907          245   \n",
       "\n",
       "            primary_category_ADHD  primary_category_Anxiety  \\\n",
       "Unnamed: 0                                                    \n",
       "1                               0                         1   \n",
       "2                               0                         1   \n",
       "4                               0                         0   \n",
       "6                               0                         1   \n",
       "14                              0                         0   \n",
       "\n",
       "            primary_category_Cognitive Behavioral Therapy  \\\n",
       "Unnamed: 0                                                  \n",
       "1                                                       0   \n",
       "2                                                       0   \n",
       "4                                                       1   \n",
       "6                                                       0   \n",
       "14                                                      0   \n",
       "\n",
       "            primary_category_Depression  primary_category_Managing Pain  \\\n",
       "Unnamed: 0                                                                \n",
       "1                                     0                               0   \n",
       "2                                     0                               0   \n",
       "4                                     0                               0   \n",
       "6                                     0                               0   \n",
       "14                                    1                               0   \n",
       "\n",
       "            primary_category_Mindfulness  \\\n",
       "Unnamed: 0                                 \n",
       "1                                      0   \n",
       "2                                      0   \n",
       "4                                      0   \n",
       "6                                      0   \n",
       "14                                     0   \n",
       "\n",
       "            primary_category_New & Expecting Mothers  primary_category_PTSD  \\\n",
       "Unnamed: 0                                                                    \n",
       "1                                                  0                      0   \n",
       "2                                                  0                      0   \n",
       "4                                                  0                      0   \n",
       "6                                                  0                      0   \n",
       "14                                                 0                      0   \n",
       "\n",
       "            primary_category_Sleep  primary_category_Stress  \\\n",
       "Unnamed: 0                                                    \n",
       "1                                0                        0   \n",
       "2                                0                        0   \n",
       "4                                0                        0   \n",
       "6                                0                        0   \n",
       "14                               0                        0   \n",
       "\n",
       "            primary_category_Substance Use  primary_category_Yoga  \n",
       "Unnamed: 0                                                         \n",
       "1                                        0                      0  \n",
       "2                                        0                      0  \n",
       "4                                        0                      0  \n",
       "6                                        0                      0  \n",
       "14                                       0                      0  "
      ],
      "text/html": "<div>\n<style scoped>\n    .dataframe tbody tr th:only-of-type {\n        vertical-align: middle;\n    }\n\n    .dataframe tbody tr th {\n        vertical-align: top;\n    }\n\n    .dataframe thead th {\n        text-align: right;\n    }\n</style>\n<table border=\"1\" class=\"dataframe\">\n  <thead>\n    <tr style=\"text-align: right;\">\n      <th></th>\n      <th>patient_id</th>\n      <th>video_id</th>\n      <th>length</th>\n      <th>video_created_time</th>\n      <th>video_views</th>\n      <th>primary_category_ADHD</th>\n      <th>primary_category_Anxiety</th>\n      <th>primary_category_Cognitive Behavioral Therapy</th>\n      <th>primary_category_Depression</th>\n      <th>primary_category_Managing Pain</th>\n      <th>primary_category_Mindfulness</th>\n      <th>primary_category_New &amp; Expecting Mothers</th>\n      <th>primary_category_PTSD</th>\n      <th>primary_category_Sleep</th>\n      <th>primary_category_Stress</th>\n      <th>primary_category_Substance Use</th>\n      <th>primary_category_Yoga</th>\n    </tr>\n    <tr>\n      <th>Unnamed: 0</th>\n      <th></th>\n      <th></th>\n      <th></th>\n      <th></th>\n      <th></th>\n      <th></th>\n      <th></th>\n      <th></th>\n      <th></th>\n      <th></th>\n      <th></th>\n      <th></th>\n      <th></th>\n      <th></th>\n      <th></th>\n      <th></th>\n      <th></th>\n    </tr>\n  </thead>\n  <tbody>\n    <tr>\n      <th>1</th>\n      <td>26207</td>\n      <td>620</td>\n      <td>137</td>\n      <td>197350632</td>\n      <td>793</td>\n      <td>0</td>\n      <td>1</td>\n      <td>0</td>\n      <td>0</td>\n      <td>0</td>\n      <td>0</td>\n      <td>0</td>\n      <td>0</td>\n      <td>0</td>\n      <td>0</td>\n      <td>0</td>\n      <td>0</td>\n    </tr>\n    <tr>\n      <th>2</th>\n      <td>26207</td>\n      <td>620</td>\n      <td>137</td>\n      <td>197350632</td>\n      <td>793</td>\n      <td>0</td>\n      <td>1</td>\n      <td>0</td>\n      <td>0</td>\n      <td>0</td>\n      <td>0</td>\n      <td>0</td>\n      <td>0</td>\n      <td>0</td>\n      <td>0</td>\n      <td>0</td>\n      <td>0</td>\n    </tr>\n    <tr>\n      <th>4</th>\n      <td>26207</td>\n      <td>771</td>\n      <td>305</td>\n      <td>72700160</td>\n      <td>452</td>\n      <td>0</td>\n      <td>0</td>\n      <td>1</td>\n      <td>0</td>\n      <td>0</td>\n      <td>0</td>\n      <td>0</td>\n      <td>0</td>\n      <td>0</td>\n      <td>0</td>\n      <td>0</td>\n      <td>0</td>\n    </tr>\n    <tr>\n      <th>6</th>\n      <td>26207</td>\n      <td>707</td>\n      <td>220</td>\n      <td>657973552</td>\n      <td>394</td>\n      <td>0</td>\n      <td>1</td>\n      <td>0</td>\n      <td>0</td>\n      <td>0</td>\n      <td>0</td>\n      <td>0</td>\n      <td>0</td>\n      <td>0</td>\n      <td>0</td>\n      <td>0</td>\n      <td>0</td>\n    </tr>\n    <tr>\n      <th>14</th>\n      <td>26208</td>\n      <td>609</td>\n      <td>555</td>\n      <td>183070907</td>\n      <td>245</td>\n      <td>0</td>\n      <td>0</td>\n      <td>0</td>\n      <td>1</td>\n      <td>0</td>\n      <td>0</td>\n      <td>0</td>\n      <td>0</td>\n      <td>0</td>\n      <td>0</td>\n      <td>0</td>\n      <td>0</td>\n    </tr>\n  </tbody>\n</table>\n</div>"
     },
     "metadata": {},
     "execution_count": 10
    }
   ],
   "source": [
    "# add test cases here and in videos/test csv\n",
    "patient = 26207\n",
    "patient_info = pd.read_csv('/data/patient_info_CONFIDENTIAL.csv')\n",
    "videos = pd.read_csv('/data/videos_test.csv').set_index('Unnamed: 0')\n",
    "videos.head()"
   ]
  },
  {
   "cell_type": "code",
   "execution_count": 11,
   "metadata": {
    "id": "z42tHs2EpNom"
   },
   "outputs": [],
   "source": [
    "patient_info = patient_info[['patient_id', 'age', 'sex', 'has_bh_specialist', 'total_activities_done', 'unique_days_with_activity']]\n",
    "patient_info = pd.get_dummies(patient_info, columns = ['sex', 'has_bh_specialist'])\n",
    "\n",
    "big = patient_info.merge(videos, on = \"patient_id\")\n",
    "\n",
    "video_stats = big.groupby(['video_id']).mean()\n",
    "video_features = videos.groupby('video_id').mean()\n",
    "video_features['avg_age'] = video_stats['age']\n",
    "video_features['gender'] = video_stats['sex_Male']"
   ]
  },
  {
   "cell_type": "code",
   "execution_count": 12,
   "metadata": {
    "id": "4sMS8xz_1OGg"
   },
   "outputs": [],
   "source": [
    "# Normalize, PCA\n",
    "cols = list(video_features.columns)\n",
    "x = video_features.values #returns a numpy array\n",
    "min_max_scaler = preprocessing.MinMaxScaler()\n",
    "min_max_scaler.fit(x)\n",
    "x_scaled = min_max_scaler.transform(x)\n",
    "video_features = pd.DataFrame(x_scaled)\n",
    "dims = len(video_features.columns)\n",
    "\n",
    "pca = joblib.load('/models/video_pca.pkl')\n",
    "reduced_movie_features = pca.transform(video_features)\n",
    "reduced_movie_features = pd.DataFrame(reduced_movie_features)\n",
    "reduced_movie_features = reduced_movie_features.set_index(video_stats.index.values)"
   ]
  },
  {
   "cell_type": "code",
   "execution_count": 13,
   "metadata": {
    "id": "pFzjBvAu8aqk"
   },
   "outputs": [],
   "source": [
    "patient_features = big.groupby(['patient_id']).mean()\n",
    "patient_features = patient_features [['age', 'sex_Female', 'sex_Male', 'has_bh_specialist_False', 'has_bh_specialist_True',\n",
    "                                      'length', 'video_created_time', 'video_views', 'primary_category_ADHD',\n",
    "                                      'primary_category_Anxiety', 'primary_category_Cognitive Behavioral Therapy',\n",
    "                                      'primary_category_Depression', 'primary_category_Managing Pain',\n",
    "                                      'primary_category_Mindfulness', 'primary_category_New & Expecting Mothers',\n",
    "                                      'primary_category_PTSD', 'primary_category_Sleep', 'primary_category_Stress',\n",
    "                                      'primary_category_Substance Use', 'primary_category_Yoga']]\n",
    "patient_features = patient_features.dropna()\n",
    "patient_index = patient_features.index.values\n",
    "patient_features_unscaled = patient_features.copy()\n",
    "cols = list(patient_features.columns)\n",
    "x = patient_features.values #returns a numpy array\n",
    "min_max_scaler = preprocessing.MinMaxScaler()\n",
    "x_scaled = min_max_scaler.fit_transform(x)\n",
    "patient_features = pd.DataFrame(x_scaled)\n",
    "\n",
    "user_pca = joblib.load('/models/user_pca.pkl')\n",
    "reduced_patient_features = user_pca.transform(patient_features)\n",
    "reduced_patient_features = pd.DataFrame(reduced_patient_features)\n",
    "reduced_patient_features = reduced_patient_features.set_index(patient_index)\n",
    "patient_features = patient_features.set_index(patient_index)"
   ]
  },
  {
   "cell_type": "code",
   "execution_count": 14,
   "metadata": {
    "id": "8Zh415N5n8uS"
   },
   "outputs": [],
   "source": [
    "from scipy import spatial\n",
    "vids = video_stats.index.values\n",
    "model = keras.models.load_model('/models/model.h5')\n",
    "def get_closest_user(user, k, pca):\n",
    "  \"\"\"For a given user, returns the k nearest neighbors in the new PCA feature space.\n",
    "  params:\n",
    "  user - id of the user in question (int)\n",
    "  k - number of nearest neighbors\n",
    "  pca - PCA object for transform.\"\"\"\n",
    "  patient_pca = pca.transform(patient_features)\n",
    "  patients = patient_features.index.values\n",
    "  patient_pca = pd.DataFrame(patient_pca)\n",
    "  patient_pca = patient_pca.set_index(patients)\n",
    "\n",
    "  patient_index = patient_pca[patient_pca.index.values == user]\n",
    "\n",
    "  patient_similarity = [spatial.distance.cosine(list(patient_index), list(x)[1:]) for x in patient_pca.itertuples()]\n",
    "\n",
    "  closest_indices = np.argpartition(patient_similarity, k+1).tolist()[1:k+1]\n",
    "  return patients[closest_indices]\n",
    "\n",
    "def get_closest_movie(movie, user, k, pca):\n",
    "  \"\"\"For a given movie, return the k nearest movies in the new PCA feature space.\n",
    "  This movie cannot be seen before by the user. (Business logic)\n",
    "  params:\n",
    "  movie = vector of average movie\n",
    "  user = user id \n",
    "  k = number of nearest neighbors\n",
    "  pca = pca object\"\"\"\n",
    "\n",
    "  \n",
    "  video_pca = pca.transform(video_features)\n",
    "  patients = video_features.index.values\n",
    "  video_pca = pd.DataFrame(video_pca)\n",
    "  video_pca = video_pca.set_index(vids)\n",
    "\n",
    "  \n",
    "  transformed_movie = pca.transform(movie.reshape(-1, 1))[0]\n",
    "\n",
    "  video_similarity = [spatial.distance.cosine(transformed_movie, list(x)[1:]) for x in video_pca.itertuples()]\n",
    "\n",
    "  closest_indices = np.argpartition(video_similarity, k+1).tolist()[1:k+1]\n",
    "\n",
    "  video_similarity = np.array(video_similarity)\n",
    "  return vids[closest_indices], video_similarity[closest_indices]\n",
    "  \n",
    "def nn_predict(user):\n",
    "  \"\"\"Predicts next movie based on user ID.\"\"\"\n",
    "  ## First take a look at the user's features.\n",
    "  patient_info[patient_info['patient_id'] == user]\n",
    "  ## We wish to transform these features using our PCA reduction\n",
    "  reduced_patient_features = user_pca.transform(patient_features)\n",
    "  reduced_patient_features = pd.DataFrame(reduced_patient_features)\n",
    "  reduced_patient_features = reduced_patient_features.set_index(patient_index)\n",
    "  user_features = reduced_patient_features[reduced_patient_features.index.values == 26207]\n",
    "\n",
    "  ## This reduced feature space goes into our neural network\n",
    "  predictions = model.predict(user_features)[0]\n",
    "  # finding the predicted movie(s)\n",
    "  top_movies = predictions.argsort()[-10:][::-1]\n",
    "  ## Convert index back to movie\n",
    "  return top_movies"
   ]
  },
  {
   "cell_type": "code",
   "execution_count": 15,
   "metadata": {
    "colab": {
     "base_uri": "https://localhost:8080/"
    },
    "id": "1qQQKkPwnt9p",
    "outputId": "cb257cc9-b78b-4275-d7e2-f4d990132584"
   },
   "outputs": [
    {
     "output_type": "stream",
     "name": "stdout",
     "text": [
      "Based on your previous watch history, we recommend:\n\nCognitive Behavioral Therapy for Insomnia: https://youtu.be/oYnudJrod8Y?t=8\nSleep 101: https://www.youtube.com/watch?v=K1JeQm2AkfE&feature=youtu.be\nDifficulty Falling or Staying Asleep: https://www.youtube.com/watch?v=uen6MrnXH14\nWhat is Positive Psychology?: https://www.youtube.com/watch?v=1qJvS8v0TTI\nEustress: Fun stress management story video: https://www.youtube.com/watch?v=pzxzrA4n_i0\nAnxiety 101: https://www.youtube.com/watch?v=pNB16ZcbU7A&feature=youtu.be\nAnxiety 101: https://www.youtube.com/watch?v=pNB16ZcbU7A&feature=youtu.be\nTreatment for Anxiety: https://youtu.be/hLoh2GELJfU?t=3\nSleep Better By Sleeping Less?: https://www.youtube.com/watch?v=yOG6q_C96GQ\nSleep 101: https://www.youtube.com/watch?v=K1JeQm2AkfE&feature=youtu.be\n"
     ]
    }
   ],
   "source": [
    "recommendations = nn_predict(patient)\n",
    "vids_orig = pd.read_csv('/data/video_watched_events_CONFIDENTIAL.csv')\n",
    "print('Based on your previous watch history, we recommend:')\n",
    "print()\n",
    "for rec in recommendations:\n",
    "  print(vids_orig.loc[rec, :].notes + ': ' + vids_orig.loc[rec, :].url)"
   ]
  }
 ],
 "metadata": {
  "colab": {
   "collapsed_sections": [],
   "name": "test.ipynb",
   "provenance": []
  },
  "kernelspec": {
   "display_name": "Python 3",
   "language": "python",
   "name": "python3"
  },
  "language_info": {
   "codemirror_mode": {
    "name": "ipython",
    "version": 3
   },
   "file_extension": ".py",
   "mimetype": "text/x-python",
   "name": "python",
   "nbconvert_exporter": "python",
   "pygments_lexer": "ipython3",
   "version": "3.7.6-final"
  },
  "latex_envs": {
   "LaTeX_envs_menu_present": true,
   "autoclose": false,
   "autocomplete": true,
   "bibliofile": "biblio.bib",
   "cite_by": "apalike",
   "current_citInitial": 1,
   "eqLabelWithNumbers": true,
   "eqNumInitial": 1,
   "hotkeys": {
    "equation": "Ctrl-E",
    "itemize": "Ctrl-I"
   },
   "labels_anchors": false,
   "latex_user_defs": false,
   "report_style_numbering": false,
   "user_envs_cfg": false
  },
  "toc": {
   "base_numbering": 1,
   "nav_menu": {},
   "number_sections": true,
   "sideBar": true,
   "skip_h1_title": false,
   "title_cell": "Table of Contents",
   "title_sidebar": "Contents",
   "toc_cell": false,
   "toc_position": {},
   "toc_section_display": true,
   "toc_window_display": false
  }
 },
 "nbformat": 4,
 "nbformat_minor": 1
}